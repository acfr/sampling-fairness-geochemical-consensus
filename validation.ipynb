{
 "cells": [
  {
   "cell_type": "code",
   "execution_count": null,
   "id": "ad579f15",
   "metadata": {},
   "outputs": [],
   "source": [
    "#This notebook reproduces the graphs shown in Figure 9 of the paper (doi.org/10.31224/2422)\n",
    "'''\n",
    "Demonstrated features:\n",
    "1. Running `compute_geochemical_consensus` with cfg['handle_breakdown']\n",
    "   enabled. This activates split-sequence analysis which seeks to\n",
    "   overcome MCD estimator breakdown when the samples contain an unknown\n",
    "   degree of contamination (i.e. up to 50% of outliers).\n",
    "2. Validation is performed using multiprocessing (N cpu cores)\n",
    "3. Using tools from \"custom_graphics.py\" to display data in a ternary diagram\n",
    "   - `ternary_coords` converts a 3D composition vector to 2D canvas coordinates\n",
    "   - `draw_ternary_borders` produces the basic layout of a ternary diagram.\n",
    "''';\n",
    "\n",
    "__copyright__ = \"Copyright (c) 2022, Raymond Leung\"\n",
    "__license__   = \"GPLv3\""
   ]
  },
  {
   "cell_type": "code",
   "execution_count": null,
   "id": "b2e31a6b",
   "metadata": {},
   "outputs": [],
   "source": [
    "import os, sys\n",
    "import numpy as np\n",
    "import pandas as pd\n",
    "import multiprocessing\n",
    "import time\n",
    "import validation\n",
    "\n",
    "from matplotlib import cm, pyplot as plt"
   ]
  },
  {
   "cell_type": "code",
   "execution_count": null,
   "id": "c6cc9d60",
   "metadata": {},
   "outputs": [],
   "source": [
    "validation_data_file = 'data/synthesized_samples.zip'\n",
    "df = pd.read_csv(validation_data_file, compression='zip', header=0, sep=',')"
   ]
  },
  {
   "cell_type": "code",
   "execution_count": null,
   "id": "a70e44ee",
   "metadata": {},
   "outputs": [],
   "source": [
    "#input data inspection\n",
    "df.loc[[27340,49000,252100]]"
   ]
  },
  {
   "cell_type": "code",
   "execution_count": null,
   "id": "23b23c5d",
   "metadata": {},
   "outputs": [],
   "source": [
    "#config parameters\n",
    "cfg = {'modelled_elements': ['Fe','SiO2','Al2O3'],\n",
    "       'chemical_weights': [0.5,0.325,0.175],\n",
    "       'handle_breakdown': True,\n",
    "       'terminate_early': True,\n",
    "       'sample_size': 32}"
   ]
  },
  {
   "cell_type": "code",
   "execution_count": null,
   "id": "9bf58b3c",
   "metadata": {
    "scrolled": false
   },
   "outputs": [],
   "source": [
    "#perform validation using multiprocessing\n",
    "mp = validation.Multiprocessor()\n",
    "num_processes = multiprocessing.cpu_count()\n",
    "sample_size = cfg['sample_size']\n",
    "t0 = time.time()\n",
    "\n",
    "for i in range(num_processes):\n",
    "    mp.run(validation.worker, i, num_processes, df, cfg)\n",
    "\n",
    "ret = mp.wait()\n",
    "t1 = time.time()\n",
    "assert len(ret) == num_processes\n",
    "print('compute_geochemical_consensus completed in {}s '\n",
    "      'using {} cores'.format(t1 - t0, num_processes))\n",
    "\n",
    "#each element in `ret` corresponds to [process_num, L] where L represents\n",
    "#a vertical stack of many [eta_outliers, d_gmean, d_unmasked, f_consensus]\n",
    "\n",
    "#the results may arrive out-of-order, so we need to rearrange\n",
    "#them if necessary to match the input\n",
    "order = np.argsort([r[0] for r in ret])\n",
    "assessment = np.vstack([ret[i][1] for i in order])"
   ]
  },
  {
   "cell_type": "code",
   "execution_count": null,
   "id": "f1a9b656",
   "metadata": {},
   "outputs": [],
   "source": [
    "#graphical analysis\n",
    "parameters = ['mode(phi)', 'noise(nu)', 'cluster_dist(delta)', 'frac_outliers(eta)']\n",
    "X = np.hstack([df.loc[:,parameters].values[::sample_size], assessment])\n",
    "\n",
    "show_errorbar = True\n",
    "iMode, iNu, iDelta, iEta = 0, 1, 2, 3\n",
    "iConsensus = X.shape[1] - 1\n",
    "v_delta = np.linspace(0,1,21)[1:-1]\n",
    "v_eta = np.linspace(0,1,17)\n",
    "stepsize = 0.5 / (len(v_eta)-1)\n",
    "midgray = [0.7,0.7,0.7]\n",
    "handle_breakdown = cfg['handle_breakdown']\n",
    "prefer_loc = 'lower center' if handle_breakdown else 'center'\n",
    "prefer_ncol = 10 if handle_breakdown else 1\n",
    "prefer_colsp = 1\n",
    "\n",
    "for mode in [0,1]:\n",
    "    for nu in [0.025]:\n",
    "        plt.figure(figsize=(10,6))\n",
    "        vmean = {}\n",
    "        hdl = []\n",
    "        for i, delta in enumerate(v_delta):\n",
    "            vmean[delta] = []\n",
    "            rgb = cm.tab20c(i) \n",
    "            for eta in v_eta:\n",
    "                idx = np.where((X[:,iMode]==mode) & np.isclose(X[:,iNu],nu) &\n",
    "                               np.isclose(X[:,iDelta],delta) & np.isclose(X[:,iEta],eta))[0]\n",
    "                scores = X[idx,iConsensus]\n",
    "                sigma = np.std(scores)\n",
    "                low, high = np.percentile(scores,25), np.percentile(scores,75)\n",
    "                scores = scores[(scores >= low) & (scores <= high)]\n",
    "                mu = np.mean(scores)\n",
    "                stderr = sigma / np.sqrt(len(scores))\n",
    "                if not handle_breakdown and (eta > 0.4 and eta < 0.6):\n",
    "                    mu *= np.nan\n",
    "                    sigma *= np.nan\n",
    "                vmean[delta].append(mu)\n",
    "                if show_errorbar and (handle_breakdown or eta <= 0.4 or eta >= 0.6):\n",
    "                    plt.plot(eta, mu, 'ko', ms=5)\n",
    "                    plt.plot([eta]*2, [mu-stderr,mu+stderr], ls='-', lw=0.5, c=midgray)\n",
    "                    plt.plot([eta-0.3*stepsize, eta+0.3*stepsize],\n",
    "                             [mu-stderr]*2, ls='-', lw=0.5, c=midgray)\n",
    "                    plt.plot([eta-0.3*stepsize, eta+0.3*stepsize],\n",
    "                             [mu+stderr]*2, ls='-', lw=0.5, c=midgray)\n",
    "            h = plt.plot(v_eta, vmean[delta], '-', c=rgb, label='%.3g' % delta)\n",
    "            hdl.append(h)\n",
    "        plt.xlabel(r'$\\eta$')\n",
    "        plt.ylabel(r'$f_{\\mathrm{consensus}}$')\n",
    "        ax = plt.gca()\n",
    "        ax.set_xlim([-0.5*stepsize, 1+0.5*stepsize])\n",
    "        ax.set_ylim([0.45, 1])\n",
    "        plt.title(r'mode=$\\phi_{}$, $\\nu$={}'.format(mode, '%.3g' % nu))\n",
    "        plt.legend(title=r'$\\delta$', fontsize='small', loc=prefer_loc,\n",
    "                   ncol=prefer_ncol, columnspacing=prefer_colsp)\n",
    "        plt.show()"
   ]
  },
  {
   "cell_type": "code",
   "execution_count": null,
   "id": "bb8047c0",
   "metadata": {
    "scrolled": false
   },
   "outputs": [],
   "source": [
    "#Methods for plotting 3D composition vectors in 2D ternary diagram\n",
    "from custom_graphs import ternary_coords, draw_ternary_borders\n",
    "from matplotlib import pyplot as plt\n",
    "\n",
    "test_enabled = True\n",
    "if test_enabled:\n",
    "    composition_vects = [(.35,.55,.1), (.8,.15,.05)]\n",
    "    txy = np.array([ternary_coords(*c) for c in composition_vects])\n",
    "    draw_ternary_borders()\n",
    "    plt.plot(txy[:,0], txy[:,1], 'o')"
   ]
  }
 ],
 "metadata": {
  "kernelspec": {
   "display_name": "Python 3 (ipykernel)",
   "language": "python",
   "name": "python3"
  },
  "language_info": {
   "codemirror_mode": {
    "name": "ipython",
    "version": 3
   },
   "file_extension": ".py",
   "mimetype": "text/x-python",
   "name": "python",
   "nbconvert_exporter": "python",
   "pygments_lexer": "ipython3",
   "version": "3.7.13"
  }
 },
 "nbformat": 4,
 "nbformat_minor": 5
}
