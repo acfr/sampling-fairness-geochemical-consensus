{
 "cells": [
  {
   "cell_type": "code",
   "execution_count": null,
   "metadata": {},
   "outputs": [],
   "source": [
    "#This notebook reproduces the maps shown in Figures 2, 3 and 5 of the paper.\n",
    "'''\n",
    "Demonstrated features:\n",
    "1. Computing sampling fairness and geochemical consensus scores using\n",
    "   the algorithm.run() API.\n",
    "2. Using the method `draw_grade_blocks` from the \"custom_graphs.py\" module\n",
    "   to draw block boundaries and show the spatial confidence and geochemical\n",
    "   consensus values within the grade-blocks in a colour map.\n",
    "''';\n",
    "\n",
    "__copyright__ = \"Copyright (c) 2022, Raymond Leung\"\n",
    "__license__   = \"GPLv3\""
   ]
  },
  {
   "cell_type": "code",
   "execution_count": null,
   "metadata": {},
   "outputs": [],
   "source": [
    "import numpy as np\n",
    "import pandas as pd\n",
    "import shapely.wkt\n",
    "import sys\n",
    "\n",
    "from shapely.geometry import Polygon\n",
    "from algorithm_implementation import GradeBlockReliabilityAssessment"
   ]
  },
  {
   "cell_type": "code",
   "execution_count": null,
   "metadata": {},
   "outputs": [],
   "source": [
    "#read test data\n",
    "#- blasthole assays\n",
    "#- grade-block boundaries\n",
    "df_bh = pd.read_csv('data/anonymised_blastholes.csv')\n",
    "df_gb = pd.read_csv('data/anonymised_gradeblocks.csv')\n",
    "uniq_gradeblock_ids = df_gb['gradeblock_id'].values\n",
    "\n",
    "#define lambda functions to access information from dataframes\n",
    "retrieve = lambda df, cols: [df[df['gradeblock_id']==g][cols].values\n",
    "                             for g in uniq_gradeblock_ids]\n",
    "holes_properties = lambda cols: retrieve(df_bh, cols)\n",
    "block_properties = lambda cols: retrieve(df_gb, cols)\n",
    "block_names = dict(zip(uniq_gradeblock_ids, block_properties('name')))\n",
    "\n",
    "block_boundaries = dict(zip(df_gb['gradeblock_id'].values,\n",
    "                        [shapely.wkt.loads(wkt) for wkt in df_gb['boundary'].values]))\n",
    "blasthole_xy = dict(zip(uniq_gradeblock_ids, holes_properties(['x','y'])))\n",
    "blasthole_assays = dict(zip(uniq_gradeblock_ids, holes_properties(['c1','c2','c3'])))"
   ]
  },
  {
   "cell_type": "code",
   "execution_count": null,
   "metadata": {},
   "outputs": [],
   "source": [
    "#configuration\n",
    "config = {'modelled_elements': ['Fe', 'SiO2', 'Al2O3'],\n",
    "          'chemical_weights': [0.5, 0.325, 0.175]}\n",
    "results = {\n",
    "       'grade_block_id': None,\n",
    "       'score_spatial_confidence': np.nan,\n",
    "       'score_chemical_consensus': np.nan,\n",
    "       'score_overall_reliability': np.nan,\n",
    "       'factor_gradeblock_coverage': np.nan,\n",
    "       'factor_hole_entropies': np.nan,\n",
    "       'factor_sampling_density': np.nan,\n",
    "       'stats_hole_sparsity': np.nan,\n",
    "       'stats_rd_gmean': np.nan,\n",
    "       'stats_rd_score': np.nan,\n",
    "       'stats_eta_outliers': np.nan,\n",
    "       'stats_area': np.nan,\n",
    "       'stats_hole_count': np.nan,\n",
    "       'stats_effective_samples': np.nan\n",
    "       }"
   ]
  },
  {
   "cell_type": "code",
   "execution_count": null,
   "metadata": {},
   "outputs": [],
   "source": [
    "#instantiate object\n",
    "algorithm = GradeBlockReliabilityAssessment(config)\n",
    "\n",
    "gb_ids = []\n",
    "gb_names = []\n",
    "gb_vertices = []\n",
    "gb_spatial_confidence = []\n",
    "gb_chemical_consensus = []\n",
    "\n",
    "#analyse individual grade-blocks\n",
    "for i, gb in enumerate(uniq_gradeblock_ids):\n",
    "    results['grade_block_id'] = gb\n",
    "    algorithm.run(block_boundaries[gb], blasthole_xy[gb], blasthole_assays[gb], results)\n",
    "    gb_ids.append(gb)\n",
    "    gb_names.append(block_names[gb])\n",
    "    gb_vertices.append(np.array(Polygon(block_boundaries[gb]).exterior.coords.xy).squeeze().T)\n",
    "    gb_spatial_confidence.append(results['score_spatial_confidence'])\n",
    "    gb_chemical_consensus.append(results['score_chemical_consensus'])\n",
    "    #show progress bar\n",
    "    pct = (i * 100.) / (len(uniq_gradeblock_ids)-1)\n",
    "    steps = int(np.floor(pct / 5))\n",
    "    sys.stdout.write('\\r')\n",
    "    sys.stdout.write(\"[%-20s] %d%% completed\" % ('*' * steps, pct))\n",
    "    sys.stdout.flush()"
   ]
  },
  {
   "cell_type": "code",
   "execution_count": null,
   "metadata": {},
   "outputs": [],
   "source": [
    "valid = np.where(~np.isnan(gb_spatial_confidence) & ~np.isnan(gb_chemical_consensus))[0]\n",
    "gb_ids = np.array([gb_ids[r] for r in valid])\n",
    "gb_polys = [gb_vertices[r] for r in valid]\n",
    "gb_abbrevs = [gb_names[r][0] for r in valid]\n",
    "gb_spatial_confidence = np.array([gb_spatial_confidence[r] for r in valid])\n",
    "gb_chemical_consensus = np.array([gb_chemical_consensus[r] for r in valid])"
   ]
  },
  {
   "cell_type": "code",
   "execution_count": null,
   "metadata": {
    "scrolled": false
   },
   "outputs": [],
   "source": [
    "from custom_graphs import draw_grade_blocks\n",
    "\n",
    "#draw_grade_blocks(gb_polys, gb_abbrevs, gb_fill=None, show=True, categorise=True, fontsz=5)\n",
    "\n",
    "draw_grade_blocks(gb_polys, gb_abbrevs, gb_spatial_confidence, show=True,\n",
    "                  alpha=1, cbar_title='spatial confidence', gamma=3.0, fontsz=5)\n",
    "\n",
    "draw_grade_blocks(gb_polys, gb_abbrevs, gb_chemical_consensus, show=True,\n",
    "                  alpha=1, cbar_title='geochemical consensus', gamma=3.0, fontsz=5)\n",
    "\n",
    "draw_grade_blocks(gb_polys, gb_abbrevs, gb_spatial_confidence * gb_chemical_consensus, show=True,\n",
    "                  alpha=1, cbar_title='overall grade-block reliability', gamma=3.0, fontsz=5)"
   ]
  }
 ],
 "metadata": {
  "kernelspec": {
   "display_name": "Python 3 (ipykernel)",
   "language": "python",
   "name": "python3"
  },
  "language_info": {
   "codemirror_mode": {
    "name": "ipython",
    "version": 3
   },
   "file_extension": ".py",
   "mimetype": "text/x-python",
   "name": "python",
   "nbconvert_exporter": "python",
   "pygments_lexer": "ipython3",
   "version": "3.7.13"
  }
 },
 "nbformat": 4,
 "nbformat_minor": 2
}
